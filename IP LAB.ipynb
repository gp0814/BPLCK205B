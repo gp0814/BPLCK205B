{
 "cells": [
  {
   "cell_type": "code",
   "execution_count": null,
   "id": "2f3c4574",
   "metadata": {},
   "outputs": [],
   "source": [
    "name=input('Enter name:')\n",
    "usn=input('Enter usn:')\n",
    "m1=int(input('Enter marks of subject 1='))\n",
    "m2=int(input('Enter marks of subject 2='))\n",
    "m3=int(input('Enter marks of subject 3='))\n",
    "total=m1+m2+m3\n",
    "percent=float((total/300)*100)\n",
    "print('Name=',name)\n",
    "print('USN=',usn)\n",
    "print('Total marks=',total)\n",
    "print('Percentage=',percent,'%')\n",
    "if(percent>90):\n",
    "    print('Distinction')\n",
    "elif(75<percent<90):\n",
    "    print('First class')\n",
    "elif(55<percent<75):\n",
    "    print('Pass')\n",
    "else:\n",
    "    print('Fail')"
   ]
  },
  {
   "cell_type": "code",
   "execution_count": null,
   "id": "caa59b84",
   "metadata": {},
   "outputs": [],
   "source": [
    "name=input('Enter name:')\n",
    "year=int(input('Enter birth year:'))\n",
    "age=2023-year\n",
    "print('You are',age,'years old')\n",
    "if(age>60):\n",
    "    print('Senior citizen')\n",
    "else:\n",
    "    print('Non-senior citizen')\n"
   ]
  },
  {
   "cell_type": "code",
   "execution_count": null,
   "id": "fed350d6",
   "metadata": {},
   "outputs": [],
   "source": [
    "n=int(input('Enter n:'))\n",
    "series=[0,1]\n",
    "for i in range(n-2):\n",
    "    next=series[i]+series[i+1]\n",
    "    series.append(next)\n",
    "print(str(series))\n"
   ]
  },
  {
   "cell_type": "code",
   "execution_count": null,
   "id": "f097c861",
   "metadata": {},
   "outputs": [],
   "source": [
    "def fact(n):\n",
    "    sum=1\n",
    "    while(n>=1):\n",
    "        sum=sum*n\n",
    "        n=n-1\n",
    "    return sum\n",
    "n=int(input('Enter a value:'))\n",
    "k=int(input('Enter another value:'))\n",
    "bc=fact(n)/(fact(k)*fact(n-k))\n",
    "print(bc)"
   ]
  },
  {
   "cell_type": "code",
   "execution_count": null,
   "id": "f4ca100d",
   "metadata": {},
   "outputs": [],
   "source": [
    "import math\n",
    "N=int(input('Enter n:'))\n",
    "numbers=[]\n",
    "for i in range(N):\n",
    "    num=float(input('Enter a number:'))\n",
    "    numbers.append(num)\n",
    "\n",
    "mean=(sum(numbers))/N\n",
    "variance=sum((x-mean)**2 for x in numbers)/N\n",
    "std_dev=math.sqrt(variance)\n",
    "print('Mean=',mean)\n",
    "print('Variance=',variance)\n",
    "print('Standard deviation=',std_dev)\n"
   ]
  },
  {
   "cell_type": "code",
   "execution_count": null,
   "id": "24755bf3",
   "metadata": {},
   "outputs": [],
   "source": [
    "number=input('Enter a number:')\n",
    "frequency={}\n",
    "for digit in number:\n",
    "    if digit in frequency:\n",
    "        frequency[digit]+=1\n",
    "    else:\n",
    "        frequency[digit]=1\n",
    "print('Digit frequencies')\n",
    "for digit in frequency:\n",
    "    print(digit+':',frequency[digit])\n"
   ]
  },
  {
   "cell_type": "code",
   "execution_count": null,
   "id": "9ebe526a",
   "metadata": {},
   "outputs": [],
   "source": [
    "with open(\"abhi.txt\",\"r\") as file:\n",
    "    text=file.read()\n",
    "text=text.lower()\n",
    "for p in ['.',',',':',';','(',')','?','!']:\n",
    "    text=text.replace(p,' ')\n",
    "words=text.split()\n",
    "freq_dict={}\n",
    "for word in words:\n",
    "    if word in freq_dict:\n",
    "        freq_dict[word]+=1\n",
    "    else:\n",
    "        freq_dict[word]=1\n",
    "sorted_freq=sorted(freq_dict.items(),key=lambda x:x[1],reverse=True)\n",
    "print('frequency')\n",
    "for word,freq in sorted_freq[:10]:\n",
    "    print(word+':',str(freq))"
   ]
  },
  {
   "cell_type": "code",
   "execution_count": 1,
   "id": "d0a71330",
   "metadata": {},
   "outputs": [],
   "source": [
    "with open(\"input.txt\",\"r\")as infile,open(\"output\",\"w\")as outfile:\n",
    "    lines=infile.readlines()\n",
    "    lines.sort()\n",
    "    for line in lines:\n",
    "        outfile.write(line)"
   ]
  },
  {
   "cell_type": "code",
   "execution_count": null,
   "id": "c2c3527c",
   "metadata": {},
   "outputs": [],
   "source": [
    "class Complex:\n",
    "    def __init__(self,real,imag):\n",
    "        self.real=real\n",
    "        self.imag=imag\n",
    "    def __add__(self,other):\n",
    "        return Complex(self.real+other.real,self.imag+other.imag)\n",
    "def add_complex_numbers(c1,c2):\n",
    "    return c1+c2\n",
    "numbers=[]\n",
    "n=int(input('enter n:'))\n",
    "for i in range(n):\n",
    "    print(f'enter the complex number{i+1}')\n",
    "    real=int(input('Real part:'))\n",
    "    imag=int(input('Imag part:'))\n",
    "    numbers.append(Complex(real,imag))\n",
    "result=numbers[0]\n",
    "for i in range(1,n):\n",
    "    result=add_complex_numbers(result,numbers[i])\n",
    "print(f'sum:{result.real}+{result.imag}i')"
   ]
  },
  {
   "cell_type": "code",
   "execution_count": null,
   "id": "f4bed0a2",
   "metadata": {},
   "outputs": [],
   "source": [
    "class student:\n",
    "    def __init__(self,name,usn):\n",
    "        self.name=name\n",
    "        self.usn=usn\n",
    "        self.marks=[0,0,0]\n",
    "        self.total=0\n",
    "    def getMarks(self):\n",
    "        for i in range(3):\n",
    "            self.marks[i]=int(input(f'enter marks for sub{i+1}:'))\n",
    "        self.total=sum(self.marks)\n",
    "    def display(self):\n",
    "        print('Scorecard:')\n",
    "        print('Name:',self.name)\n",
    "        print('USN:',self.usn)\n",
    "        print('Marks:')\n",
    "        for i in range(3):\n",
    "            print(f'Subject {i+1}:{self.marks[i]}')\n",
    "        print('Total:',self.total)\n",
    "        print('Percentage:',(self.total/300)*100,'%')\n",
    "name=input('Enter name:')\n",
    "usn=input('Enter usn:')\n",
    "s=student(name,usn)\n",
    "s.getMarks()\n",
    "s.display()\n"
   ]
  },
  {
   "cell_type": "code",
   "execution_count": null,
   "id": "5e143ba1",
   "metadata": {},
   "outputs": [],
   "source": [
    "def DivExp(a,b):\n",
    "    assert a>0,'a must be greater than zero'\n",
    "    if b==0:\n",
    "        raise Exception('b cannot be zero')\n",
    "    else:\n",
    "        c=a/b\n",
    "        return c\n",
    "a=int(input('Enter a:'))\n",
    "b=int(input('Enetr b:'))\n",
    "try:\n",
    "    result=DivExp(a,b)\n",
    "    print(f'{a}/{b}={result}')\n",
    "except AssertionError as e:\n",
    "    print(f'Assertion error={e}')\n",
    "except Exception as e:\n",
    "    print(f'Exception:{e}')"
   ]
  },
  {
   "cell_type": "code",
   "execution_count": null,
   "id": "3cecddd9",
   "metadata": {},
   "outputs": [],
   "source": [
    "import os \n",
    "import sys\n",
    "import pathlib\n",
    "import zipfile\n",
    "dirName=input('Enter directory name that u want to backup:')\n",
    "if not os.path.isdir(dirName):\n",
    "    print(\"Directory\",dirName,\"doesnt exist\")\n",
    "    sys.exit(0)\n",
    "curDirectory=pathlib.Path(dirName)\n",
    "with zipfile.ZipFile('myZip.zip',mode=\"w\") as archive:\n",
    "    for file_path in curDirectory.glob(\"*\"):\n",
    "        archive.write(file_path,arcname=file_path.relative_to(curDirectory))\n",
    "if os.path.isfile(\"myZip.zip\"):\n",
    "    print(\"Archive\",\"myZip.zip\",\"created successfully\")\n",
    "else:\n",
    "    print('error')"
   ]
  }
 ],
 "metadata": {
  "kernelspec": {
   "display_name": "Python 3 (ipykernel)",
   "language": "python",
   "name": "python3"
  },
  "language_info": {
   "codemirror_mode": {
    "name": "ipython",
    "version": 3
   },
   "file_extension": ".py",
   "mimetype": "text/x-python",
   "name": "python",
   "nbconvert_exporter": "python",
   "pygments_lexer": "ipython3",
   "version": "3.9.13"
  }
 },
 "nbformat": 4,
 "nbformat_minor": 5
}
